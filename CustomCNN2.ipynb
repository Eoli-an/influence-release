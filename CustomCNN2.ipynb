{
  "nbformat": 4,
  "nbformat_minor": 0,
  "metadata": {
    "colab": {
      "name": "CustomCNN2.ipynb",
      "version": "0.3.2",
      "provenance": [],
      "collapsed_sections": [],
      "toc_visible": true,
      "machine_shape": "hm",
      "include_colab_link": true
    },
    "kernelspec": {
      "name": "python3",
      "display_name": "Python 3"
    },
    "accelerator": "GPU"
  },
  "cells": [
    {
      "cell_type": "markdown",
      "metadata": {
        "id": "view-in-github",
        "colab_type": "text"
      },
      "source": [
        "<a href=\"https://colab.research.google.com/github/Eoli-an/influence-release/blob/master/CustomCNN2.ipynb\" target=\"_parent\"><img src=\"https://colab.research.google.com/assets/colab-badge.svg\" alt=\"Open In Colab\"/></a>"
      ]
    },
    {
      "cell_type": "code",
      "metadata": {
        "id": "q8epoVRfDQK_",
        "colab_type": "code",
        "outputId": "abeda693-f8aa-4911-af74-2f07bbd725e7",
        "colab": {
          "base_uri": "https://localhost:8080/",
          "height": 55
        }
      },
      "source": [
        "'''import tensorflow as tf\n",
        "device_name = tf.test.gpu_device_name()\n",
        "if device_name != '/device:GPU:0':\n",
        "  raise SystemError('GPU device not found')\n",
        "print('Found GPU at: {}'.format(device_name))'''"
      ],
      "execution_count": 1,
      "outputs": [
        {
          "output_type": "execute_result",
          "data": {
            "text/plain": [
              "\"import tensorflow as tf\\ndevice_name = tf.test.gpu_device_name()\\nif device_name != '/device:GPU:0':\\n  raise SystemError('GPU device not found')\\nprint('Found GPU at: {}'.format(device_name))\""
            ]
          },
          "metadata": {
            "tags": []
          },
          "execution_count": 1
        }
      ]
    },
    {
      "cell_type": "code",
      "metadata": {
        "id": "N9HHs4owD4qB",
        "colab_type": "code",
        "outputId": "a0786101-a119-426f-8b12-47e68bfdfd31",
        "colab": {
          "base_uri": "https://localhost:8080/",
          "height": 163
        }
      },
      "source": [
        "!git clone https://github.com/Eoli-an/influence-release customCNN\n",
        "  "
      ],
      "execution_count": 2,
      "outputs": [
        {
          "output_type": "stream",
          "text": [
            "Cloning into 'customCNN'...\n",
            "remote: Enumerating objects: 38, done.\u001b[K\n",
            "remote: Counting objects: 100% (38/38), done.\u001b[K\n",
            "remote: Compressing objects: 100% (37/37), done.\u001b[K\n",
            "remote: Total 835 (delta 16), reused 22 (delta 0), pack-reused 797\u001b[K\n",
            "Receiving objects: 100% (835/835), 153.03 MiB | 23.20 MiB/s, done.\n",
            "Resolving deltas: 100% (608/608), done.\n",
            "Checking out files: 100% (76/76), done.\n"
          ],
          "name": "stdout"
        }
      ]
    },
    {
      "cell_type": "code",
      "metadata": {
        "id": "T17cO8ejEQrz",
        "colab_type": "code",
        "colab": {}
      },
      "source": [
        "import os\n",
        "os.chdir('./customCNN')"
      ],
      "execution_count": 0,
      "outputs": []
    },
    {
      "cell_type": "code",
      "metadata": {
        "id": "yuBWxJ6HTz38",
        "colab_type": "code",
        "outputId": "b6b6c8fa-9fc6-4ce7-c0f1-46ffe3109fde",
        "colab": {
          "base_uri": "https://localhost:8080/",
          "height": 35
        }
      },
      "source": [
        "!git pull"
      ],
      "execution_count": 4,
      "outputs": [
        {
          "output_type": "stream",
          "text": [
            "Already up to date.\n"
          ],
          "name": "stdout"
        }
      ]
    },
    {
      "cell_type": "markdown",
      "metadata": {
        "id": "ptpTHgq9H5kz",
        "colab_type": "text"
      },
      "source": [
        "# Training CNN and saving the influence of every training example(for the test image with test_idx)"
      ]
    },
    {
      "cell_type": "markdown",
      "metadata": {
        "id": "b1KMH6OfPT1P",
        "colab_type": "text"
      },
      "source": [
        "handling imports"
      ]
    },
    {
      "cell_type": "code",
      "metadata": {
        "id": "Jwijlos1PWB3",
        "colab_type": "code",
        "colab": {
          "base_uri": "https://localhost:8080/",
          "height": 35
        },
        "outputId": "7090e6a1-d5db-4aa0-ca4e-59cdb71398d8"
      },
      "source": [
        "from __future__ import division\n",
        "from __future__ import print_function\n",
        "from __future__ import absolute_import\n",
        "from __future__ import unicode_literals  \n",
        "\n",
        "import numpy as np\n",
        "import IPython\n",
        "\n",
        "import math\n",
        "import copy\n",
        "import pandas as pd\n",
        "import seaborn as sns\n",
        "import matplotlib.pyplot as plt\n",
        "import sklearn.linear_model as linear_model\n",
        "import sklearn.preprocessing as preprocessing\n",
        "import scipy\n",
        "import scipy.linalg as slin\n",
        "import scipy.sparse.linalg as sparselin\n",
        "import scipy.sparse as sparse\n",
        "\n",
        "sns.set(color_codes=True)\n",
        "\n",
        "import tensorflow as tf\n",
        "\n",
        "from influence.all_CNN_c import All_CNN_C\n",
        "from scripts.load_mnist import load_small_mnist, load_mnist\n"
      ],
      "execution_count": 5,
      "outputs": [
        {
          "output_type": "stream",
          "text": [
            "Using TensorFlow backend.\n"
          ],
          "name": "stderr"
        }
      ]
    },
    {
      "cell_type": "markdown",
      "metadata": {
        "id": "4T6reorcP134",
        "colab_type": "text"
      },
      "source": [
        "loading the dataset"
      ]
    },
    {
      "cell_type": "code",
      "metadata": {
        "id": "833iet1mhjmL",
        "colab_type": "code",
        "colab": {}
      },
      "source": [
        "import h5py\n",
        "path_to_matrices = \"data/training_set.hdf5\"\n",
        "dataset = h5py.File(path_to_matrices, 'r')"
      ],
      "execution_count": 0,
      "outputs": []
    },
    {
      "cell_type": "code",
      "metadata": {
        "id": "irE1Ly5MiGwU",
        "colab_type": "code",
        "colab": {}
      },
      "source": [
        "matrices = np.array(dataset['matrices'])\n",
        "labels = np.array(dataset['label_vectors'])\n",
        "\n",
        "matrices = matrices[0:100,:]\n",
        "labels = labels[0:100,:]\n",
        "\n"
      ],
      "execution_count": 0,
      "outputs": []
    },
    {
      "cell_type": "code",
      "metadata": {
        "id": "iOItgUL0jLTx",
        "colab_type": "code",
        "colab": {}
      },
      "source": [
        "randomize = np.arange(len(matrices))\n",
        "np.random.shuffle(randomize)\n",
        "matrices = matrices[randomize]\n",
        "labels = labels[randomize]"
      ],
      "execution_count": 0,
      "outputs": []
    },
    {
      "cell_type": "code",
      "metadata": {
        "id": "3cnJzb_yu478",
        "colab_type": "code",
        "colab": {}
      },
      "source": [
        "#from one hot to integer coding\n",
        "i = 0\n",
        "new_labels = []\n",
        "for label in labels:\n",
        "  index = np.argmax(label)\n",
        "  new_labels.append(index)\n",
        "  i+=1\n",
        "\n",
        "labels = new_labels\n",
        "labels = np.asarray(labels)"
      ],
      "execution_count": 0,
      "outputs": []
    },
    {
      "cell_type": "code",
      "metadata": {
        "id": "ydsj_Pz8kMLK",
        "colab_type": "code",
        "colab": {}
      },
      "source": [
        "training_test_split = 0.8\n",
        "index = int(training_test_split * len(matrices))\n",
        "\n",
        "train_matrices = np.expand_dims(matrices[:index], axis=3)\n",
        "train_labels = labels[:index]\n",
        "\n",
        "validation_matrices = np.expand_dims(matrices[index + 1:], axis=3)\n",
        "validation_labels = labels[index + 1:]"
      ],
      "execution_count": 0,
      "outputs": []
    },
    {
      "cell_type": "code",
      "metadata": {
        "id": "bw_C6gDNklif",
        "colab_type": "code",
        "colab": {}
      },
      "source": [
        "from tensorflow.contrib.learn.python.learn.datasets import base\n",
        "from influence.dataset import DataSet\n"
      ],
      "execution_count": 0,
      "outputs": []
    },
    {
      "cell_type": "code",
      "metadata": {
        "id": "gGPvQnuDkm50",
        "colab_type": "code",
        "colab": {}
      },
      "source": [
        "train = DataSet(train_matrices, train_labels)\n",
        "validation = DataSet(validation_matrices, validation_labels)\n",
        "test = DataSet(validation_matrices, validation_labels)\n",
        "\n",
        "data_sets = base.Datasets(train=train, validation=validation, test=test)"
      ],
      "execution_count": 0,
      "outputs": []
    },
    {
      "cell_type": "markdown",
      "metadata": {
        "id": "nPoovhz_P8-I",
        "colab_type": "text"
      },
      "source": [
        "defining the CNN"
      ]
    },
    {
      "cell_type": "markdown",
      "metadata": {
        "id": "OtpRfmVwQFQK",
        "colab_type": "text"
      },
      "source": [
        "training the CNN"
      ]
    },
    {
      "cell_type": "code",
      "metadata": {
        "id": "qGNV3H83P-kA",
        "colab_type": "code",
        "outputId": "ca6b540f-5d51-467f-cf1e-66ec2f6e4d36",
        "colab": {
          "base_uri": "https://localhost:8080/",
          "height": 619
        }
      },
      "source": [
        "num_classes = 4\n",
        "input_side = 128\n",
        "input_channels = 1\n",
        "input_dim = input_side * input_side * input_channels \n",
        "weight_decay = 0.001\n",
        "batch_size = 1\n",
        "\n",
        "initial_learning_rate = 0.0001 \n",
        "decay_epochs = [10000, 20000]\n",
        "hidden1_units = 8\n",
        "hidden2_units = 8\n",
        "hidden3_units = 8\n",
        "conv_patch_size = 3\n",
        "keep_probs = [1.0, 1.0]\n",
        "\n",
        "\n",
        "model = All_CNN_C(\n",
        "    input_side=input_side, \n",
        "    input_channels=input_channels,\n",
        "    conv_patch_size=conv_patch_size,\n",
        "    hidden1_units=hidden1_units, \n",
        "    hidden2_units=hidden2_units,\n",
        "    hidden3_units=hidden3_units,\n",
        "    weight_decay=weight_decay,\n",
        "    num_classes=num_classes, \n",
        "    batch_size=batch_size,\n",
        "    data_sets=data_sets,\n",
        "    initial_learning_rate=initial_learning_rate,\n",
        "    damping=1e-2,\n",
        "    decay_epochs=decay_epochs,\n",
        "    mini_batch=False,\n",
        "    train_dir='output', \n",
        "    log_dir='log',\n",
        "    model_name='mnist_small_all_cnn_c')"
      ],
      "execution_count": 13,
      "outputs": [
        {
          "output_type": "stream",
          "text": [
            "WARNING: Logging before flag parsing goes to stderr.\n",
            "W0817 09:13:17.769575 140261974615936 deprecation_wrapper.py:119] From /content/customCNN/influence/genericNeuralNet.py:83: The name tf.set_random_seed is deprecated. Please use tf.compat.v1.set_random_seed instead.\n",
            "\n",
            "W0817 09:13:17.779891 140261974615936 deprecation_wrapper.py:119] From /content/customCNN/influence/genericNeuralNet.py:107: The name tf.ConfigProto is deprecated. Please use tf.compat.v1.ConfigProto instead.\n",
            "\n",
            "W0817 09:13:17.780861 140261974615936 deprecation_wrapper.py:119] From /content/customCNN/influence/genericNeuralNet.py:108: The name tf.Session is deprecated. Please use tf.compat.v1.Session instead.\n",
            "\n",
            "W0817 09:13:19.006340 140261974615936 deprecation_wrapper.py:119] From /content/customCNN/influence/all_CNN_c.py:242: The name tf.placeholder is deprecated. Please use tf.compat.v1.placeholder instead.\n",
            "\n",
            "W0817 09:13:19.017426 140261974615936 deprecation_wrapper.py:119] From /usr/local/lib/python3.6/dist-packages/keras/backend/tensorflow_backend.py:74: The name tf.get_default_graph is deprecated. Please use tf.compat.v1.get_default_graph instead.\n",
            "\n",
            "W0817 09:13:19.048708 140261974615936 deprecation_wrapper.py:119] From /usr/local/lib/python3.6/dist-packages/keras/backend/tensorflow_backend.py:3976: The name tf.nn.max_pool is deprecated. Please use tf.nn.max_pool2d instead.\n",
            "\n",
            "W0817 09:13:19.105310 140261974615936 deprecation.py:506] From /usr/local/lib/python3.6/dist-packages/keras/backend/tensorflow_backend.py:3445: calling dropout (from tensorflow.python.ops.nn_ops) with keep_prob is deprecated and will be removed in a future version.\n",
            "Instructions for updating:\n",
            "Please use `rate` instead of `keep_prob`. Rate should be set to `rate = 1 - keep_prob`.\n",
            "W0817 09:13:19.142144 140261974615936 deprecation_wrapper.py:119] From /usr/local/lib/python3.6/dist-packages/keras/optimizers.py:790: The name tf.train.Optimizer is deprecated. Please use tf.compat.v1.train.Optimizer instead.\n",
            "\n",
            "W0817 09:13:20.943484 140261974615936 nn_ops.py:4224] Large dropout rate: 0.569678 (>0.5). In TensorFlow 2.x, dropout() uses dropout rate instead of keep_prob. Please ensure that this is intended.\n",
            "W0817 09:13:21.019946 140261974615936 nn_ops.py:4224] Large dropout rate: 0.569678 (>0.5). In TensorFlow 2.x, dropout() uses dropout rate instead of keep_prob. Please ensure that this is intended.\n",
            "W0817 09:13:21.060571 140261974615936 nn_ops.py:4224] Large dropout rate: 0.569678 (>0.5). In TensorFlow 2.x, dropout() uses dropout rate instead of keep_prob. Please ensure that this is intended.\n",
            "W0817 09:13:21.747748 140261974615936 nn_ops.py:4224] Large dropout rate: 0.569678 (>0.5). In TensorFlow 2.x, dropout() uses dropout rate instead of keep_prob. Please ensure that this is intended.\n",
            "W0817 09:13:21.823304 140261974615936 nn_ops.py:4224] Large dropout rate: 0.569678 (>0.5). In TensorFlow 2.x, dropout() uses dropout rate instead of keep_prob. Please ensure that this is intended.\n",
            "W0817 09:13:25.456736 140261974615936 deprecation_wrapper.py:119] From /content/customCNN/influence/genericNeuralNet.py:406: The name tf.train.AdamOptimizer is deprecated. Please use tf.compat.v1.train.AdamOptimizer instead.\n",
            "\n",
            "W0817 09:13:25.721809 140261974615936 deprecation_wrapper.py:119] From /content/customCNN/influence/genericNeuralNet.py:416: The name tf.train.GradientDescentOptimizer is deprecated. Please use tf.compat.v1.train.GradientDescentOptimizer instead.\n",
            "\n",
            "W0817 09:13:25.884661 140261974615936 deprecation_wrapper.py:119] From /content/customCNN/influence/genericNeuralNet.py:140: The name tf.train.Saver is deprecated. Please use tf.compat.v1.train.Saver instead.\n",
            "\n",
            "W0817 09:13:27.630963 140261974615936 deprecation.py:323] From /usr/local/lib/python3.6/dist-packages/tensorflow/python/ops/array_ops.py:1354: add_dispatch_support.<locals>.wrapper (from tensorflow.python.ops.array_ops) is deprecated and will be removed in a future version.\n",
            "Instructions for updating:\n",
            "Use tf.where in 2.0, which has the same broadcast rule as np.where\n"
          ],
          "name": "stderr"
        }
      ]
    },
    {
      "cell_type": "code",
      "metadata": {
        "id": "rD1q87PJqzCh",
        "colab_type": "code",
        "outputId": "d76de4a6-30e4-4735-b61e-52e9a81e585c",
        "colab": {
          "base_uri": "https://localhost:8080/",
          "height": 35
        }
      },
      "source": [
        "'''num_steps = 5000\n",
        "model.train(\n",
        "    num_steps=num_steps, \n",
        "    iter_to_switch_to_batch=10000,\n",
        "    iter_to_switch_to_sgd=10000)\n",
        "iter_to_load = num_steps - 1'''\n"
      ],
      "execution_count": 14,
      "outputs": [
        {
          "output_type": "execute_result",
          "data": {
            "text/plain": [
              "'num_steps = 5000\\nmodel.train(\\n    num_steps=num_steps, \\n    iter_to_switch_to_batch=10000,\\n    iter_to_switch_to_sgd=10000)\\niter_to_load = num_steps - 1'"
            ]
          },
          "metadata": {
            "tags": []
          },
          "execution_count": 14
        }
      ]
    },
    {
      "cell_type": "markdown",
      "metadata": {
        "id": "mR4M2LnKQOeL",
        "colab_type": "text"
      },
      "source": [
        "calculating the influence"
      ]
    },
    {
      "cell_type": "code",
      "metadata": {
        "id": "vJKVm1ZgQTgT",
        "colab_type": "code",
        "outputId": "8fd3a849-a5fe-43e9-d0e7-471a02b1c039",
        "colab": {
          "base_uri": "https://localhost:8080/",
          "height": 1000
        }
      },
      "source": [
        "test_idx = 5\n",
        "\n",
        "CNN_predicted_loss_diffs = model.get_influence_on_test_loss(\n",
        "    [test_idx], \n",
        "    np.arange(len(model.data_sets.train.labels)),\n",
        "    force_refresh=True)"
      ],
      "execution_count": 15,
      "outputs": [
        {
          "output_type": "stream",
          "text": [
            "(19, 16384)\n",
            "[5]\n",
            "Norm of test gradient: 12.794741\n",
            "Function value: -675.0255432128906\n",
            "Split function value: -528.6010131835938, -146.42453\n",
            "Predicted loss diff on train_idx 5: 0.04050368964672089\n",
            "Function value: -734.6864013671875\n",
            "Split function value: -588.2317504882812, -146.45471\n",
            "Predicted loss diff on train_idx 5: 0.04051351547241211\n",
            "Function value: -795.8733978271484\n",
            "Split function value: -645.9938354492188, -149.87956\n",
            "Predicted loss diff on train_idx 5: 0.041188913583755496\n",
            "Function value: -855.7901000976562\n",
            "Split function value: -705.8804321289062, -149.90967\n",
            "Predicted loss diff on train_idx 5: 0.041199994087219236\n",
            "Function value: -917.5445861816406\n",
            "Split function value: -764.2791748046875, -153.26541\n",
            "Predicted loss diff on train_idx 5: 0.04200344681739807\n",
            "Function value: -977.7338409423828\n",
            "Split function value: -824.4382934570312, -153.29555\n",
            "Predicted loss diff on train_idx 5: 0.042015951871871945\n",
            "Function value: -1040.0207214355469\n",
            "Split function value: -883.462890625, -156.55783\n",
            "Predicted loss diff on train_idx 5: 0.042949569225311277\n",
            "Function value: -1100.50927734375\n",
            "Split function value: -943.92138671875, -156.58789\n",
            "Predicted loss diff on train_idx 5: 0.04296362996101379\n",
            "Function value: -1163.3060607910156\n",
            "Split function value: -1003.5675659179688, -159.7385\n",
            "Predicted loss diff on train_idx 5: 0.04402360916137695\n",
            "Function value: -1224.1378326416016\n",
            "Split function value: -1064.369140625, -159.76869\n",
            "Predicted loss diff on train_idx 5: 0.044039326906204226\n",
            "Function value: -1287.452377319336\n",
            "Split function value: -1124.6572265625, -162.79515\n",
            "Predicted loss diff on train_idx 5: 0.04521697461605072\n",
            "Function value: -1348.6924743652344\n",
            "Split function value: -1185.8671875, -162.82541\n",
            "Predicted loss diff on train_idx 5: 0.04523437917232513\n",
            "Function value: -1412.6017456054688\n",
            "Split function value: -1246.8828125, -165.71893\n",
            "Predicted loss diff on train_idx 5: 0.04651678502559662\n",
            "Function value: -1474.3125\n",
            "Split function value: -1308.5631103515625, -165.74939\n",
            "Predicted loss diff on train_idx 5: 0.046535933017730714\n",
            "Function value: -1538.9306945800781\n",
            "Split function value: -1370.4298095703125, -168.50089\n",
            "Predicted loss diff on train_idx 5: 0.047905749082565306\n",
            "Function value: -1601.159652709961\n",
            "Split function value: -1432.628173828125, -168.53148\n",
            "Predicted loss diff on train_idx 5: 0.04792673885822296\n",
            "Function value: -1666.569808959961\n",
            "Split function value: -1495.43994140625, -171.12987\n",
            "Predicted loss diff on train_idx 5: 0.04936152398586273\n",
            "Function value: -1729.3890380859375\n",
            "Split function value: -1558.22802734375, -171.16089\n",
            "Predicted loss diff on train_idx 5: 0.04938434958457947\n",
            "Function value: -1795.7298278808594\n",
            "Split function value: -1622.136474609375, -173.59335\n",
            "Predicted loss diff on train_idx 5: 0.05085741877555847\n",
            "Function value: -1859.2250671386719\n",
            "Split function value: -1685.6005859375, -173.62448\n",
            "Predicted loss diff on train_idx 5: 0.050881963968276975\n",
            "Function value: -1926.6595153808594\n",
            "Split function value: -1750.7821044921875, -175.87741\n",
            "Predicted loss diff on train_idx 5: 0.052362465858459474\n",
            "Function value: -1990.9180908203125\n",
            "Split function value: -1815.0091552734375, -175.90894\n",
            "Predicted loss diff on train_idx 5: 0.05238879919052124\n",
            "Function value: -2059.5467834472656\n",
            "Split function value: -1881.577880859375, -177.9689\n",
            "Predicted loss diff on train_idx 5: 0.05384378433227539\n",
            "Function value: -2124.6863403320312\n",
            "Split function value: -1946.6856689453125, -178.00067\n",
            "Predicted loss diff on train_idx 5: 0.05387183427810669\n",
            "Function value: -2194.6200103759766\n",
            "Split function value: -2014.7596435546875, -179.86037\n",
            "Predicted loss diff on train_idx 5: 0.05527091026306152\n",
            "Function value: -2260.749267578125\n",
            "Split function value: -2080.85693359375, -179.89233\n",
            "Predicted loss diff on train_idx 5: 0.055300623178482056\n",
            "Function value: -2332.019561767578\n",
            "Split function value: -2150.4677734375, -181.55179\n",
            "Predicted loss diff on train_idx 5: 0.056619679927825926\n",
            "Function value: -2399.2438201904297\n",
            "Split function value: -2217.659912109375, -181.58415\n",
            "Predicted loss diff on train_idx 5: 0.05665087699890137\n",
            "Function value: -2471.8148193359375\n",
            "Split function value: -2288.76220703125, -183.05261\n",
            "Predicted loss diff on train_idx 5: 0.05787514448165894\n",
            "Function value: -2540.250473022461\n",
            "Split function value: -2357.165283203125, -183.08519\n",
            "Predicted loss diff on train_idx 5: 0.05790780186653137\n",
            "Function value: -2614.1192169189453\n",
            "Split function value: -2429.7392578125, -184.37996\n",
            "Predicted loss diff on train_idx 5: 0.05903242230415344\n",
            "Function value: -2683.864028930664\n",
            "Split function value: -2499.451171875, -184.41286\n",
            "Predicted loss diff on train_idx 5: 0.05906646251678467\n",
            "Function value: -2759.000946044922\n",
            "Split function value: -2573.446533203125, -185.55441\n",
            "Predicted loss diff on train_idx 5: 0.06009387969970703\n",
            "Function value: -2830.1617736816406\n",
            "Split function value: -2644.57421875, -185.58755\n",
            "Predicted loss diff on train_idx 5: 0.060129189491271974\n",
            "Function value: -2906.6112213134766\n",
            "Split function value: -2720.013427734375, -186.5978\n",
            "Predicted loss diff on train_idx 5: 0.06106675267219543\n",
            "Function value: -2979.2801361083984\n",
            "Split function value: -2792.64892578125, -186.63121\n",
            "Predicted loss diff on train_idx 5: 0.06110324263572693\n",
            "Function value: -3057.080841064453\n",
            "Split function value: -2869.551025390625, -187.52982\n",
            "Predicted loss diff on train_idx 5: 0.06196011900901795\n",
            "Function value: -3131.3443756103516\n",
            "Split function value: -2943.78076171875, -187.56361\n",
            "Predicted loss diff on train_idx 5: 0.06199771165847778\n",
            "Function value: -3210.60107421875\n",
            "Split function value: -3022.23291015625, -188.36816\n",
            "Predicted loss diff on train_idx 5: 0.06278343200683593\n",
            "Function value: -3286.5159606933594\n",
            "Split function value: -3098.11376953125, -188.40219\n",
            "Predicted loss diff on train_idx 5: 0.06282212734222412\n",
            "Function value: -3367.2308959960938\n",
            "Split function value: -3178.103515625, -189.12738\n",
            "Predicted loss diff on train_idx 5: 0.06354536414146424\n",
            "Function value: -3444.879928588867\n",
            "Split function value: -3255.71826171875, -189.16167\n",
            "Predicted loss diff on train_idx 5: 0.06358509063720703\n",
            "Function value: -3527.1589965820312\n",
            "Split function value: -3337.339111328125, -189.81989\n",
            "Predicted loss diff on train_idx 5: 0.06425397396087647\n",
            "Function value: -3606.614288330078\n",
            "Split function value: -3416.759765625, -189.85452\n",
            "Predicted loss diff on train_idx 5: 0.06429469585418701\n",
            "Function value: -3690.542724609375\n",
            "Split function value: -3500.0869140625, -190.45581\n",
            "Predicted loss diff on train_idx 5: 0.0649162471294403\n",
            "Function value: -3771.878433227539\n",
            "Split function value: -3581.3876953125, -190.49074\n",
            "Predicted loss diff on train_idx 5: 0.06495789885520935\n",
            "Function value: -3857.5340881347656\n",
            "Split function value: -3666.490966796875, -191.04337\n",
            "Predicted loss diff on train_idx 5: 0.0655381977558136\n",
            "Function value: -3940.825927734375\n",
            "Split function value: -3749.7470703125, -191.07861\n",
            "Predicted loss diff on train_idx 5: 0.06558076143264771\n",
            "Function value: -4028.298126220703\n",
            "Split function value: -3836.708740234375, -191.58939\n",
            "Predicted loss diff on train_idx 5: 0.06612478494644165\n",
            "Function value: -4113.619735717773\n",
            "Split function value: -3921.99462890625, -191.62486\n",
            "Predicted loss diff on train_idx 5: 0.06616830229759216\n",
            "Function value: -4203.000503540039\n",
            "Split function value: -4010.901611328125, -192.09938\n",
            "Predicted loss diff on train_idx 5: 0.06668046116828918\n",
            "Function value: -4290.419357299805\n",
            "Split function value: -4098.2841796875, -192.13518\n",
            "Predicted loss diff on train_idx 5: 0.06672483682632446\n",
            "Function value: -4381.802703857422\n",
            "Split function value: -4189.224609375, -192.5781\n",
            "Predicted loss diff on train_idx 5: 0.06720884442329407\n",
            "Function value: -4471.391098022461\n",
            "Split function value: -4278.77685546875, -192.61424\n",
            "Predicted loss diff on train_idx 5: 0.06725409030914306\n",
            "Function value: -4564.839157104492\n",
            "Split function value: -4371.81005859375, -193.02959\n",
            "Predicted loss diff on train_idx 5: 0.06771305203437805\n",
            "Function value: -4656.671905517578\n",
            "Split function value: -4463.60595703125, -193.06595\n",
            "Predicted loss diff on train_idx 5: 0.06775915622711182\n",
            "Function value: -4752.293182373047\n",
            "Split function value: -4558.83642578125, -193.45676\n",
            "Predicted loss diff on train_idx 5: 0.06819568872451783\n",
            "Function value: -4846.437759399414\n",
            "Split function value: -4652.9443359375, -193.49342\n",
            "Predicted loss diff on train_idx 5: 0.06824265718460083\n",
            "Function value: -4944.300140380859\n",
            "Split function value: -4750.4375, -193.86264\n",
            "Predicted loss diff on train_idx 5: 0.06865906715393066\n",
            "Function value: -5040.824798583984\n",
            "Split function value: -4846.9248046875, -193.8995\n",
            "Predicted loss diff on train_idx 5: 0.06870689392089843\n",
            "Function value: -5141.01481628418\n",
            "Split function value: -4946.765625, -194.24919\n",
            "Predicted loss diff on train_idx 5: 0.06910523176193237\n",
            "Function value: -5239.989028930664\n",
            "Split function value: -5045.7021484375, -194.28639\n",
            "Predicted loss diff on train_idx 5: 0.06915385127067566\n",
            "Function value: -5342.559661865234\n",
            "Split function value: -5147.94091796875, -194.61874\n",
            "Predicted loss diff on train_idx 5: 0.06953575015068054\n",
            "Function value: -5444.058135986328\n",
            "Split function value: -5249.40185546875, -194.65628\n",
            "Predicted loss diff on train_idx 5: 0.06958522796630859\n",
            "Function value: -5549.111068725586\n",
            "Split function value: -5354.1376953125, -194.97289\n",
            "Predicted loss diff on train_idx 5: 0.06995221376419067\n",
            "Function value: -5653.207962036133\n",
            "Split function value: -5458.197265625, -195.0107\n",
            "Predicted loss diff on train_idx 5: 0.07000243663787842\n",
            "Function value: -5760.825653076172\n",
            "Split function value: -5565.5126953125, -195.31296\n",
            "Predicted loss diff on train_idx 5: 0.07035587430000305\n",
            "Function value: -5867.603134155273\n",
            "Split function value: -5672.251953125, -195.35118\n",
            "Predicted loss diff on train_idx 5: 0.07040692567825317\n",
            "Function value: -5977.854446411133\n",
            "Split function value: -5782.2138671875, -195.64058\n",
            "Predicted loss diff on train_idx 5: 0.070747971534729\n",
            "Function value: -6087.396682739258\n",
            "Split function value: -5891.7177734375, -195.67891\n",
            "Predicted loss diff on train_idx 5: 0.07079978585243225\n",
            "Function value: -6200.39421081543\n",
            "Split function value: -6004.4375, -195.95671\n",
            "Predicted loss diff on train_idx 5: 0.07112945318222046\n",
            "Function value: -6312.768310546875\n",
            "Split function value: -6116.7724609375, -195.99536\n",
            "Predicted loss diff on train_idx 5: 0.07118208408355713\n",
            "Function value: -6428.590377807617\n",
            "Split function value: -6232.32861328125, -196.26225\n",
            "Predicted loss diff on train_idx 5: 0.07150120735168457\n",
            "Function value: -6543.877868652344\n",
            "Split function value: -6347.57666015625, -196.30121\n",
            "Predicted loss diff on train_idx 5: 0.07155467271804809\n",
            "Function value: -6662.599807739258\n",
            "Split function value: -6466.041015625, -196.5583\n",
            "Predicted loss diff on train_idx 5: 0.07186405062675476\n",
            "Function value: -6780.880767822266\n",
            "Split function value: -6584.283203125, -196.59756\n",
            "Predicted loss diff on train_idx 5: 0.0719183325767517\n",
            "Function value: -6902.575454711914\n",
            "Split function value: -6705.72998046875, -196.84547\n",
            "Predicted loss diff on train_idx 5: 0.07221875190734864\n",
            "Function value: -7023.926986694336\n",
            "Split function value: -6827.0419921875, -196.885\n",
            "Predicted loss diff on train_idx 5: 0.07227378487586975\n",
            "Function value: -7148.7015380859375\n",
            "Split function value: -6951.5771484375, -197.12439\n",
            "Predicted loss diff on train_idx 5: 0.07256584167480469\n",
            "Function value: -7273.212142944336\n",
            "Split function value: -7076.0478515625, -197.16429\n",
            "Predicted loss diff on train_idx 5: 0.07262170314788818\n",
            "Function value: -7401.15168762207\n",
            "Split function value: -7203.755859375, -197.39583\n",
            "Predicted loss diff on train_idx 5: 0.07290592193603515\n",
            "Function value: -7528.881805419922\n",
            "Split function value: -7331.44580078125, -197.436\n",
            "Predicted loss diff on train_idx 5: 0.07296260595321655\n",
            "Function value: -7660.069839477539\n",
            "Split function value: -7462.4091796875, -197.66017\n",
            "Predicted loss diff on train_idx 5: 0.07323955297470093\n",
            "Function value: -7791.109664916992\n",
            "Split function value: -7593.4091796875, -197.70049\n",
            "Predicted loss diff on train_idx 5: 0.07329701185226441\n",
            "Function value: -7925.597686767578\n",
            "Split function value: -7727.6806640625, -197.918\n",
            "Predicted loss diff on train_idx 5: 0.0735670804977417\n",
            "Function value: -8060.041198730469\n",
            "Split function value: -7862.08251953125, -197.95868\n",
            "Predicted loss diff on train_idx 5: 0.07362529039382934\n",
            "Function value: -8197.94418334961\n",
            "Split function value: -7999.775390625, -198.16977\n",
            "Predicted loss diff on train_idx 5: 0.07388906478881836\n",
            "Function value: -8335.875793457031\n",
            "Split function value: -8137.66455078125, -198.21075\n",
            "Predicted loss diff on train_idx 5: 0.07394810914993286\n",
            "Function value: -8477.281036376953\n",
            "Split function value: -8278.865234375, -198.4158\n",
            "Predicted loss diff on train_idx 5: 0.07420575022697448\n",
            "Function value: -8618.808700561523\n",
            "Split function value: -8420.3515625, -198.45714\n",
            "Predicted loss diff on train_idx 5: 0.07426564693450928\n",
            "Function value: -8763.819564819336\n",
            "Split function value: -8565.1630859375, -198.65648\n",
            "Predicted loss diff on train_idx 5: 0.07451772689819336\n",
            "Function value: -8909.050689697266\n",
            "Split function value: -8710.3515625, -198.69815\n",
            "Predicted loss diff on train_idx 5: 0.07457841038703919\n",
            "Function value: -9057.787002563477\n",
            "Split function value: -8858.89453125, -198.89247\n",
            "Predicted loss diff on train_idx 5: 0.07482520937919616\n",
            "Function value: -9206.787033081055\n",
            "Split function value: -9007.8525390625, -198.9345\n",
            "Predicted loss diff on train_idx 5: 0.07488664984703064\n",
            "Function value: -9359.35220336914\n",
            "Split function value: -9160.2294921875, -199.12369\n",
            "Predicted loss diff on train_idx 5: 0.07512841820716858\n",
            "Function value: -9512.225463867188\n",
            "Split function value: -9313.0615234375, -199.1659\n",
            "Predicted loss diff on train_idx 5: 0.07519070506095886\n",
            "Function value: -9668.690292358398\n",
            "Split function value: -9469.33984375, -199.35045\n",
            "Predicted loss diff on train_idx 5: 0.07542768120765686\n",
            "Function value: -9825.534637451172\n",
            "Split function value: -9626.1416015625, -199.39304\n",
            "Predicted loss diff on train_idx 5: 0.07549085617065429\n",
            "Function value: -9985.966751098633\n",
            "Split function value: -9786.3935546875, -199.5732\n",
            "Predicted loss diff on train_idx 5: 0.07572333216667175\n",
            "Function value: -10146.897369384766\n",
            "Split function value: -9947.2822265625, -199.61612\n",
            "Predicted loss diff on train_idx 5: 0.07578726410865784\n",
            "Warning: Maximum number of iterations has been exceeded.\n",
            "         Current function value: -10146.897369\n",
            "         Iterations: 100\n",
            "         Function evaluations: 101\n",
            "         Gradient evaluations: 200\n",
            "         Hessian evaluations: 202\n",
            "Saved inverse HVP to output/mnist_small_all_cnn_c-cg-normal_loss-test-[5].npz\n",
            "Inverse HVP took 288.0360064506531 sec\n",
            "Multiplying by 80 train examples took 0.4099769592285156 sec\n"
          ],
          "name": "stdout"
        }
      ]
    },
    {
      "cell_type": "markdown",
      "metadata": {
        "id": "XXrAiyFBQXle",
        "colab_type": "text"
      },
      "source": [
        "saving the influence"
      ]
    },
    {
      "cell_type": "code",
      "metadata": {
        "id": "jdhXLNryQbRs",
        "colab_type": "code",
        "colab": {}
      },
      "source": [
        "np.savez(\n",
        "    'output/CNN_results', \n",
        "    test_idx=test_idx,\n",
        "    CNN_predicted_loss_diffs=CNN_predicted_loss_diffs\n",
        "    \n",
        ")"
      ],
      "execution_count": 0,
      "outputs": []
    },
    {
      "cell_type": "markdown",
      "metadata": {
        "id": "dNKZfnfnII1I",
        "colab_type": "text"
      },
      "source": [
        "# **Loading influences and plotting the most influential pictures**"
      ]
    },
    {
      "cell_type": "markdown",
      "metadata": {
        "id": "W3VX16-wJO7x",
        "colab_type": "text"
      },
      "source": [
        "getting Xtrain of the Training Dataset"
      ]
    },
    {
      "cell_type": "code",
      "metadata": {
        "id": "EGk1yT69JSwh",
        "colab_type": "code",
        "colab": {}
      },
      "source": [
        "X_train = data_sets.train.x"
      ],
      "execution_count": 0,
      "outputs": []
    },
    {
      "cell_type": "markdown",
      "metadata": {
        "id": "ZZkwD5jtIrxr",
        "colab_type": "text"
      },
      "source": [
        "loading the influences"
      ]
    },
    {
      "cell_type": "code",
      "metadata": {
        "id": "wNC8JCIgIWNJ",
        "colab_type": "code",
        "colab": {}
      },
      "source": [
        "f = np.load('output/CNN_results.npz')\n",
        "    \n",
        "test_idx = f['test_idx']\n",
        "CNN_predicted_loss_diffs = f['CNN_predicted_loss_diffs']\n"
      ],
      "execution_count": 0,
      "outputs": []
    },
    {
      "cell_type": "code",
      "metadata": {
        "id": "USVp-mUN5TLK",
        "colab_type": "code",
        "colab": {
          "base_uri": "https://localhost:8080/",
          "height": 311
        },
        "outputId": "6f7acc49-0233-40c4-e132-22b4433b47c8"
      },
      "source": [
        "print(\"Test Image:\")\n",
        "plt.spy(np.reshape(X_train[test_idx, :], [128, 128]))\n",
        "print(\"Top 5 most influenatial matrices\")"
      ],
      "execution_count": 19,
      "outputs": [
        {
          "output_type": "stream",
          "text": [
            "Test Image:\n",
            "Top 5 most influenatial matrices\n"
          ],
          "name": "stdout"
        },
        {
          "output_type": "display_data",
          "data": {
            "image/png": "[encoded data removed]",
            "text/plain": [
              "<Figure size 432x288 with 1 Axes>"
            ]
          },
          "metadata": {
            "tags": []
          }
        }
      ]
    },
    {
      "cell_type": "code",
      "metadata": {
        "id": "QILFfsy24om6",
        "colab_type": "code",
        "colab": {}
      },
      "source": [
        "#x_train = []\n",
        "#for counter, train_idx in enumerate(np.argsort(CNN_predicted_loss_diffs)[-5:]):\n",
        "#    x_train.append(X_train[train_idx, :])\n",
        "    \n",
        "\n",
        "x_train = []\n",
        "for counter, train_idx in enumerate(np.argsort(CNN_predicted_loss_diffs)[0:5]):\n",
        "  x_train.append(X_train[train_idx, :])"
      ],
      "execution_count": 0,
      "outputs": []
    },
    {
      "cell_type": "code",
      "metadata": {
        "id": "DegmGNeN6Ul7",
        "colab_type": "code",
        "colab": {
          "base_uri": "https://localhost:8080/",
          "height": 293
        },
        "outputId": "1918150b-fd19-4f85-d198-8a4294c7dfd2"
      },
      "source": [
        "plt.spy(np.reshape(x_train[0], [128, 128]))"
      ],
      "execution_count": 21,
      "outputs": [
        {
          "output_type": "execute_result",
          "data": {
            "text/plain": [
              "<matplotlib.image.AxesImage at 0x7f907a4d4320>"
            ]
          },
          "metadata": {
            "tags": []
          },
          "execution_count": 21
        },
        {
          "output_type": "display_data",
          "data": {
            "image/png": "[encoded data removed]",
            "text/plain": [
              "<Figure size 432x288 with 1 Axes>"
            ]
          },
          "metadata": {
            "tags": []
          }
        }
      ]
    },
    {
      "cell_type": "code",
      "metadata": {
        "id": "iqEtZQ85637H",
        "colab_type": "code",
        "colab": {
          "base_uri": "https://localhost:8080/",
          "height": 293
        },
        "outputId": "c2b3bd30-9321-4fed-dd6b-605da9d5f518"
      },
      "source": [
        "plt.spy(np.reshape(x_train[1], [128, 128]))"
      ],
      "execution_count": 22,
      "outputs": [
        {
          "output_type": "execute_result",
          "data": {
            "text/plain": [
              "<matplotlib.image.AxesImage at 0x7f907a43d048>"
            ]
          },
          "metadata": {
            "tags": []
          },
          "execution_count": 22
        },
        {
          "output_type": "display_data",
          "data": {
            "image/png": "[encoded data removed]",
            "text/plain": [
              "<Figure size 432x288 with 1 Axes>"
            ]
          },
          "metadata": {
            "tags": []
          }
        }
      ]
    },
    {
      "cell_type": "code",
      "metadata": {
        "id": "o8Qb-6fN64kd",
        "colab_type": "code",
        "colab": {
          "base_uri": "https://localhost:8080/",
          "height": 293
        },
        "outputId": "6b1bcb5f-2d12-47ab-8857-62a71f7df493"
      },
      "source": [
        "plt.spy(np.reshape(x_train[2], [128, 128]))"
      ],
      "execution_count": 23,
      "outputs": [
        {
          "output_type": "execute_result",
          "data": {
            "text/plain": [
              "<matplotlib.image.AxesImage at 0x7f907a416828>"
            ]
          },
          "metadata": {
            "tags": []
          },
          "execution_count": 23
        },
        {
          "output_type": "display_data",
          "data": {
            "image/png": "[encoded data removed]",
            "text/plain": [
              "<Figure size 432x288 with 1 Axes>"
            ]
          },
          "metadata": {
            "tags": []
          }
        }
      ]
    },
    {
      "cell_type": "code",
      "metadata": {
        "id": "ToCk8IOS64y2",
        "colab_type": "code",
        "colab": {
          "base_uri": "https://localhost:8080/",
          "height": 293
        },
        "outputId": "c2715cfa-32b3-4cfd-fa93-e1b441be80b5"
      },
      "source": [
        "plt.spy(np.reshape(x_train[3], [128, 128]))"
      ],
      "execution_count": 24,
      "outputs": [
        {
          "output_type": "execute_result",
          "data": {
            "text/plain": [
              "<matplotlib.image.AxesImage at 0x7f907a3f5fd0>"
            ]
          },
          "metadata": {
            "tags": []
          },
          "execution_count": 24
        },
        {
          "output_type": "display_data",
          "data": {
            "image/png": "[encoded data removed]",
            "text/plain": [
              "<Figure size 432x288 with 1 Axes>"
            ]
          },
          "metadata": {
            "tags": []
          }
        }
      ]
    },
    {
      "cell_type": "code",
      "metadata": {
        "id": "L0RJCjqx64-L",
        "colab_type": "code",
        "colab": {
          "base_uri": "https://localhost:8080/",
          "height": 293
        },
        "outputId": "2df98eb8-b37f-4ce4-98ec-df262b946d32"
      },
      "source": [
        "plt.spy(np.reshape(x_train[4], [128, 128]))"
      ],
      "execution_count": 25,
      "outputs": [
        {
          "output_type": "execute_result",
          "data": {
            "text/plain": [
              "<matplotlib.image.AxesImage at 0x7f907a35a7f0>"
            ]
          },
          "metadata": {
            "tags": []
          },
          "execution_count": 25
        },
        {
          "output_type": "display_data",
          "data": {
            "image/png": "[encoded data removed]",
            "text/plain": [
              "<Figure size 432x288 with 1 Axes>"
            ]
          },
          "metadata": {
            "tags": []
          }
        }
      ]
    }
  ]
}